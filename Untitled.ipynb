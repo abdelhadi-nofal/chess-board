{
 "cells": [
  {
   "cell_type": "code",
   "execution_count": 1,
   "id": "fce01257-6788-4edf-80b0-653ca6539e7e",
   "metadata": {},
   "outputs": [],
   "source": [
    "import matplotlib.pyplot as plt\n",
    "import numpy as np"
   ]
  },
  {
   "cell_type": "code",
   "execution_count": 2,
   "id": "197f5989-1526-4302-8e03-15a8ebaa6918",
   "metadata": {},
   "outputs": [],
   "source": [
    "class ChessBoard:\n",
    "    \n",
    "#     x_red = None\n",
    "#     y_red = None\n",
    "#     x_blue = None\n",
    "#     y_blue = None\n",
    "    def __init__(self):\n",
    "        self.grid = np.ones((8,8,3))\n",
    "        for i in range (len(self.grid)):\n",
    "            for j in range (len(self.grid)):\n",
    "                if (i % 2 == 0 and j % 2 ==0) or (i % 2 ==1 and j %2 ==1):\n",
    "                    self.grid[i,j] =(0,0,0)\n",
    "                \n",
    "\n",
    "        \n",
    "        plt.imshow(self.grid)\n",
    "        \n",
    "    \n",
    "    def add_red(self,row,col):\n",
    "#         self.x_red = int(input('enter x-axis for queen_red'))\n",
    "#         self.y_red = int(input('enter y-axis queen_red'))\n",
    "        self.grid[row,col] =(1,.2,0)\n",
    "\n",
    "    \n",
    "    def add_blue(self,row,col):\n",
    "#         self.x_blue = int(input('enter x-axis for queen_blue'))\n",
    "#         self.y_blue = int(input('enter y-axis queen_blue'))\n",
    "        self.grid[row,col] =(0,1,1)\n",
    "    \n",
    "    def render(self):\n",
    "#         chess.add_red()\n",
    "#         chess.add_blue()\n",
    "        plt.imshow(self.grid)\n",
    "    \n",
    "    def is_under_attack(self,red, blue):\n",
    "#         chess.render()\n",
    "        if red[0] == blue[0] or red[1] == blue[1]:\n",
    "            return True\n",
    "        elif abs(red[0] - blue[0]) == abs (red[1] - blue[1] ):\n",
    "            return True\n",
    "        else :\n",
    "            return False \n",
    "    "
   ]
  },
  {
   "cell_type": "code",
   "execution_count": 3,
   "id": "ca605190-5ab1-4193-89c4-aba2aec5709a",
   "metadata": {},
   "outputs": [
    {
     "data": {
      "image/png": "[encoded data removed]",
      "text/plain": [
       "<Figure size 432x288 with 1 Axes>"
      ]
     },
     "metadata": {
      "needs_background": "light"
     },
     "output_type": "display_data"
    }
   ],
   "source": [
    "def test_same_row():\n",
    "    board = ChessBoard()\n",
    "    assert board.is_under_attack([7,3], [7,0]) == True\n",
    "\n",
    "test_same_row()\n",
    "\n",
    "\n",
    "\n",
    "def test_same_column():\n",
    "    board = ChessBoard()\n",
    "    assert board.is_under_attack([6,2], [5,2]) == True\n",
    "    \n",
    "test_same_column()\n",
    "\n",
    "def test_same_diagonal():\n",
    "    board = ChessBoard()\n",
    "    assert board.is_under_attack([0,3], [3,6]) == True\n",
    "    \n",
    "test_same_diagonal()\n",
    "\n",
    "\n",
    "def test_other_coordinates():\n",
    "    board = ChessBoard()\n",
    "    board.add_red(0,2)\n",
    "    board.add_blue(6,5)\n",
    "    board.render()\n",
    "    assert board.is_under_attack([0,2], [6,5]) == False\n",
    "    \n",
    "test_other_coordinates()\n",
    "\n"
   ]
  },
  {
   "cell_type": "code",
   "execution_count": null,
   "id": "10c61e8e-ebe7-4393-a75f-40f54a919b80",
   "metadata": {},
   "outputs": [],
   "source": []
  },
  {
   "cell_type": "code",
   "execution_count": null,
   "id": "ae1d6dfa-2a61-4cf5-a4dd-0784243841c6",
   "metadata": {},
   "outputs": [],
   "source": []
  },
  {
   "cell_type": "code",
   "execution_count": null,
   "id": "135696dc-022f-4c1c-9bab-56b833e01339",
   "metadata": {},
   "outputs": [],
   "source": []
  },
  {
   "cell_type": "code",
   "execution_count": null,
   "id": "29d9a69c-5b7e-4a1c-b3fc-70a1aaf43be2",
   "metadata": {},
   "outputs": [],
   "source": []
  },
  {
   "cell_type": "code",
   "execution_count": null,
   "id": "376e6c95-2d63-4a78-8b6d-2a11af2976f7",
   "metadata": {},
   "outputs": [],
   "source": []
  },
  {
   "cell_type": "code",
   "execution_count": null,
   "id": "d26a7b6a-bb51-41d2-81a2-23d3b952c213",
   "metadata": {},
   "outputs": [],
   "source": []
  },
  {
   "cell_type": "code",
   "execution_count": null,
   "id": "3c43e7e6-af4c-4c9d-a40f-9b56090b0d49",
   "metadata": {},
   "outputs": [],
   "source": []
  },
  {
   "cell_type": "code",
   "execution_count": null,
   "id": "4e0c6d59-b8d9-4773-8496-fa455b40e097",
   "metadata": {},
   "outputs": [],
   "source": []
  },
  {
   "cell_type": "code",
   "execution_count": null,
   "id": "3570019e-3ac5-449b-a6e9-d525845008bf",
   "metadata": {},
   "outputs": [],
   "source": []
  }
 ],
 "metadata": {
  "kernelspec": {
   "display_name": "Python 3",
   "language": "python",
   "name": "python3"
  },
  "language_info": {
   "codemirror_mode": {
    "name": "ipython",
    "version": 3
   },
   "file_extension": ".py",
   "mimetype": "text/x-python",
   "name": "python",
   "nbconvert_exporter": "python",
   "pygments_lexer": "ipython3",
   "version": "3.9.4"
  }
 },
 "nbformat": 4,
 "nbformat_minor": 5
}